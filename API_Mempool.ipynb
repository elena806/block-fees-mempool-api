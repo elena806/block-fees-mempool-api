{
 "cells": [
  {
   "cell_type": "code",
   "execution_count": null,
   "id": "3d922b33",
   "metadata": {},
   "outputs": [],
   "source": [
    "#Importing libraries\n",
    "import requests\n",
    "import pandas as pd\n",
    "import time\n",
    "from datetime import datetime\n",
    "import math"
   ]
  },
  {
   "cell_type": "code",
   "execution_count": null,
   "id": "920e22f7",
   "metadata": {
    "scrolled": true
   },
   "outputs": [],
   "source": [
    "#converting the api data to BTC and USD fees\n",
    "def calculating_fees(timestamp, average_fees, fee_usd):\n",
    "    date = datetime.fromtimestamp (timestamp)\n",
    "    BTC = float(average_fees) / 100_000_000\n",
    "    USD = float(BTC) * int(fee_usd)\n",
    "    USD = math.floor(USD)\n",
    "    return date,  round(BTC, 3) , USD\n",
    "\n",
    "def get_fees(df):\n",
    "    #Getting the data from the API\n",
    "    url = 'https://mempool.space/api/v1/mining/blocks/fees/1m'\n",
    "    response = requests.get(url).json()\n",
    "    #Wait 1s before you jump into the for loop\n",
    "    time.sleep(1)\n",
    "\n",
    "    #Assigning the data from the response to variables\n",
    "    for block in response:\n",
    "        average_height = block['avgHeight']\n",
    "        timestamp = block['timestamp']\n",
    "        average_fees = block['avgFees']\n",
    "        fee_usd = block['USD']\n",
    "        \n",
    "        date, BTC, USD = calculating_fees(timestamp, average_fees, fee_usd)\n",
    "        #Adding the collected data to the df\n",
    "        df = df.append({'average_height': average_height, 'date': date,\n",
    "                        'BTC_fees': BTC, 'USD_fees': USD}, ignore_index=True)\n",
    "    return df\n",
    "    \n"
   ]
  },
  {
   "cell_type": "code",
   "execution_count": null,
   "id": "cc321418",
   "metadata": {},
   "outputs": [],
   "source": [
    "#Creating an empty dataframe with the columns needed\n",
    "#df = df.iloc[0:0]\n",
    "df = pd.DataFrame(columns=['average_height', 'date', 'BTC_fees', 'USD_fees'])\n",
    "df = get_fees(df)\n",
    "#saving the dataframe to a csv file\n",
    "df.to_csv('mempool_data_api.csv')"
   ]
  }
 ],
 "metadata": {
  "kernelspec": {
   "display_name": "Python 3 (ipykernel)",
   "language": "python",
   "name": "python3"
  },
  "language_info": {
   "codemirror_mode": {
    "name": "ipython",
    "version": 3
   },
   "file_extension": ".py",
   "mimetype": "text/x-python",
   "name": "python",
   "nbconvert_exporter": "python",
   "pygments_lexer": "ipython3",
   "version": "3.10.2"
  }
 },
 "nbformat": 4,
 "nbformat_minor": 5
}
