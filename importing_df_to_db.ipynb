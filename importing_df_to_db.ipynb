{
 "cells": [
  {
   "cell_type": "code",
   "execution_count": null,
   "id": "5553cab0",
   "metadata": {},
   "outputs": [],
   "source": [
    "#!pip install PyMySql\n",
    "import pymysql\n",
    "import pandas as pd\n",
    "from mysql.connector import Error"
   ]
  },
  {
   "cell_type": "code",
   "execution_count": null,
   "id": "3f539a23",
   "metadata": {},
   "outputs": [],
   "source": [
    "#Creating a DF from the API data\n",
    "df = pd.read_csv('mempool_data_api.csv', index_col=0)\n",
    "df.head()"
   ]
  },
  {
   "cell_type": "code",
   "execution_count": null,
   "id": "6a377614",
   "metadata": {},
   "outputs": [],
   "source": [
    "#Connect to MySQL database\n",
    "def connect_to_db(host, user, password):\n",
    "    try:\n",
    "        conn = pymysql.connect(   \n",
    "            host= host,\n",
    "            user= user,\n",
    "            password=password\n",
    "        )\n",
    "    except Error as e:\n",
    "        print(e)\n",
    "    else:\n",
    "        print('Connected!')\n",
    "    return conn"
   ]
  },
  {
   "cell_type": "code",
   "execution_count": null,
   "id": "9d80037b",
   "metadata": {},
   "outputs": [],
   "source": [
    "#Creating the table\n",
    "def create_table(curr):\n",
    "    use_database = (\"\"\"USE xxxxx;\"\"\")\n",
    "    create_table_command = (\"\"\"CREATE TABLE IF NOT EXISTS block_fees(\n",
    "                        average_height INT NOT NULL PRIMARY KEY,\n",
    "                        date DATETIME,\n",
    "                        BTC_fees FLOAT,\n",
    "                        USD_fees INT)\"\"\")\n",
    "    #Executing commands using the cursor\n",
    "    curr.execute(use_database)\n",
    "    curr.execute(create_table_command)"
   ]
  },
  {
   "cell_type": "code",
   "execution_count": null,
   "id": "f7cc6be7",
   "metadata": {},
   "outputs": [],
   "source": [
    "#Function for inserting the data into the DB\n",
    "def insert_into_table(curr, average_height, date, BTC_fees, USD_fees):\n",
    "    insert_into_mempool = (\"\"\" INSERT INTO block_fees(average_height, date, BTC_fees,\n",
    "                            USD_fees) VALUES(%s, %s, %s, %s)\"\"\")\n",
    "    row_to_insert = (average_height, date, BTC_fees, USD_fees)\n",
    "    curr.execute(insert_into_mempool, row_to_insert)"
   ]
  },
  {
   "cell_type": "code",
   "execution_count": null,
   "id": "97d194b4",
   "metadata": {},
   "outputs": [],
   "source": [
    "#Function for adding new rows to the db from the df\n",
    "def append_from_df_to_db(curr, df):\n",
    "    for i,row in df.iterrows():\n",
    "        insert_into_table(curr, row['average_height'], row['date'], row['BTC_fees'], row['USD_fees'])"
   ]
  },
  {
   "cell_type": "code",
   "execution_count": null,
   "id": "96e9a683",
   "metadata": {},
   "outputs": [],
   "source": [
    "#replacing old mempool data with new\n",
    "def replace_with_new_data(curr, df):\n",
    "    use_database = (\"\"\"USE xxxxxx;\"\"\")\n",
    "    curr.execute(use_database)\n",
    "    curr.execute(\"DROP TABLE block_fees\")\n",
    "    \n",
    "    create_table(curr)\n",
    "    append_from_df_to_db(curr, df)\n",
    "    conn.commit()"
   ]
  },
  {
   "cell_type": "code",
   "execution_count": null,
   "id": "9aae75a8",
   "metadata": {},
   "outputs": [],
   "source": [
    "#Database credentials\n",
    "host='xxxxxxxxx.rds.amazonaws.com'\n",
    "user='xxxxxxxx'\n",
    "password='xxxxxxx'\n",
    "conn = None\n",
    "\n",
    "#Connecting to the db\n",
    "conn = connect_to_db(host, user, password)\n",
    "#Allows to execute SQL commands\n",
    "curr = conn.cursor()"
   ]
  },
  {
   "cell_type": "code",
   "execution_count": null,
   "id": "07c4e73d",
   "metadata": {},
   "outputs": [],
   "source": [
    "#create mempool table for the FIRST time\n",
    "create_table(curr)"
   ]
  },
  {
   "cell_type": "code",
   "execution_count": null,
   "id": "9fff0323",
   "metadata": {},
   "outputs": [],
   "source": [
    "#add new blocks to the table\n",
    "append_from_df_to_db(curr, df)\n",
    "conn.commit()"
   ]
  },
  {
   "cell_type": "code",
   "execution_count": null,
   "id": "4a340f46",
   "metadata": {},
   "outputs": [],
   "source": [
    "#If old mempool data exists in the database and you need to\n",
    "#replace it with the current data\n",
    "replace_with_new_data(curr, df)"
   ]
  },
  {
   "cell_type": "code",
   "execution_count": null,
   "id": "6975fc23",
   "metadata": {},
   "outputs": [],
   "source": [
    "#Checking if the data is successfully added to the db\n",
    "curr.execute(\"SELECT BTC_fees FROM block_fees LIMIT 5\")\n",
    "print(curr.fetchall())"
   ]
  }
 ],
 "metadata": {
  "kernelspec": {
   "display_name": "Python 3 (ipykernel)",
   "language": "python",
   "name": "python3"
  },
  "language_info": {
   "codemirror_mode": {
    "name": "ipython",
    "version": 3
   },
   "file_extension": ".py",
   "mimetype": "text/x-python",
   "name": "python",
   "nbconvert_exporter": "python",
   "pygments_lexer": "ipython3",
   "version": "3.10.2"
  }
 },
 "nbformat": 4,
 "nbformat_minor": 5
}
